{
  "nbformat": 4,
  "nbformat_minor": 0,
  "metadata": {
    "colab": {
      "provenance": []
    },
    "kernelspec": {
      "name": "python3",
      "display_name": "Python 3"
    },
    "language_info": {
      "name": "python"
    }
  },
  "cells": [
    {
      "cell_type": "code",
      "execution_count": 1,
      "metadata": {
        "colab": {
          "base_uri": "https://localhost:8080/"
        },
        "id": "toO7Wmy6q4bt",
        "outputId": "ccd6d12c-9243-4a57-9e22-6158e865b77b"
      },
      "outputs": [
        {
          "output_type": "stream",
          "name": "stdout",
          "text": [
            "Dataset created with 2003 entries.\n"
          ]
        }
      ],
      "source": [
        "import random\n",
        "from datasets import Dataset\n",
        "\n",
        "# Original example data\n",
        "data = {\n",
        "    \"input_text\": [\n",
        "        \"I feel sad and anxious.\",\n",
        "        \"Everything is going well, I am happy!\",\n",
        "        \"I am confused and don't know what to do.\"\n",
        "    ],\n",
        "    \"target_text\": [\n",
        "        \"Sentiment: Negative 😟\\nAdvice: Take deep breaths and try to relax.\",\n",
        "        \"Sentiment: Positive 😊\\nAdvice: Keep doing what makes you happy!\",\n",
        "        \"Sentiment: Neutral 😐\\nAdvice: Clarify your thoughts and seek guidance.\"\n",
        "    ]\n",
        "}\n",
        "\n",
        "# Possible templates for generating new entries\n",
        "input_templates = {\n",
        "    \"Positive\": [\n",
        "        \"I am feeling really joyful today.\",\n",
        "        \"Everything is perfect right now!\",\n",
        "        \"I just got some great news and I'm thrilled!\",\n",
        "        \"Life feels amazing today!\",\n",
        "        \"I am full of energy and happiness!\"\n",
        "    ],\n",
        "    \"Negative\": [\n",
        "        \"I feel overwhelmed and stressed out.\",\n",
        "        \"Nothing seems to be going my way today.\",\n",
        "        \"I am disappointed and frustrated with everything.\",\n",
        "        \"I feel sad and downhearted.\",\n",
        "        \"Today is really tough and discouraging.\"\n",
        "    ],\n",
        "    \"Neutral\": [\n",
        "        \"I am unsure about what decision to make.\",\n",
        "        \"I am feeling okay, nothing special.\",\n",
        "        \"I don't know how I feel about this situation.\",\n",
        "        \"Things are normal, nothing exciting.\",\n",
        "        \"I am just going through the day as usual.\"\n",
        "    ]\n",
        "}\n",
        "\n",
        "advice_templates = {\n",
        "    \"Positive\": [\n",
        "        \"Keep cherishing these moments of happiness!\",\n",
        "        \"Share your joy with others!\",\n",
        "        \"Continue doing what uplifts you!\",\n",
        "        \"Celebrate your achievements!\",\n",
        "        \"Stay positive and keep moving forward!\"\n",
        "    ],\n",
        "    \"Negative\": [\n",
        "        \"Take a break and practice deep breathing.\",\n",
        "        \"Talk to someone you trust about your feelings.\",\n",
        "        \"Try to focus on small positive actions.\",\n",
        "        \"Allow yourself to rest and recharge.\",\n",
        "        \"Remember that tough times pass eventually.\"\n",
        "    ],\n",
        "    \"Neutral\": [\n",
        "        \"Take time to reflect on your options.\",\n",
        "        \"Consider seeking guidance from a friend or mentor.\",\n",
        "        \"Write down your thoughts to gain clarity.\",\n",
        "        \"Focus on small steps to make progress.\",\n",
        "        \"Be patient and let things unfold naturally.\"\n",
        "    ]\n",
        "}\n",
        "\n",
        "# Function to generate additional entries\n",
        "def generate_entries(num_entries=2000):\n",
        "    new_input_texts = []\n",
        "    new_target_texts = []\n",
        "\n",
        "    sentiments = [\"Positive\", \"Negative\", \"Neutral\"]\n",
        "\n",
        "    for _ in range(num_entries):\n",
        "        sentiment = random.choice(sentiments)\n",
        "        input_text = random.choice(input_templates[sentiment])\n",
        "        advice = random.choice(advice_templates[sentiment])\n",
        "        target_text = f\"Sentiment: {sentiment} {'😊' if sentiment=='Positive' else '😟' if sentiment=='Negative' else '😐'}\\nAdvice: {advice}\"\n",
        "\n",
        "        new_input_texts.append(input_text)\n",
        "        new_target_texts.append(target_text)\n",
        "\n",
        "    return new_input_texts, new_target_texts\n",
        "\n",
        "# Generate 2,000 new entries\n",
        "new_inputs, new_targets = generate_entries(2000)\n",
        "\n",
        "# Combine with original data\n",
        "data[\"input_text\"].extend(new_inputs)\n",
        "data[\"target_text\"].extend(new_targets)\n",
        "\n",
        "# Create the dataset\n",
        "dataset = Dataset.from_dict(data)\n",
        "\n",
        "print(f\"Dataset created with {len(dataset)} entries.\")"
      ]
    },
    {
      "cell_type": "code",
      "source": [
        "dataset.to_pandas().to_csv(\"sentiment_dataset.csv\", index=False)"
      ],
      "metadata": {
        "id": "4Ae04F6JrBne"
      },
      "execution_count": 2,
      "outputs": []
    },
    {
      "cell_type": "code",
      "source": [
        "from google.colab import files\n",
        "files.download(\"sentiment_dataset.csv\")"
      ],
      "metadata": {
        "colab": {
          "base_uri": "https://localhost:8080/",
          "height": 17
        },
        "id": "AVirutgErSWi",
        "outputId": "d7604092-ca76-4804-c334-7b4034f4938e"
      },
      "execution_count": 3,
      "outputs": [
        {
          "output_type": "display_data",
          "data": {
            "text/plain": [
              "<IPython.core.display.Javascript object>"
            ],
            "application/javascript": [
              "\n",
              "    async function download(id, filename, size) {\n",
              "      if (!google.colab.kernel.accessAllowed) {\n",
              "        return;\n",
              "      }\n",
              "      const div = document.createElement('div');\n",
              "      const label = document.createElement('label');\n",
              "      label.textContent = `Downloading \"${filename}\": `;\n",
              "      div.appendChild(label);\n",
              "      const progress = document.createElement('progress');\n",
              "      progress.max = size;\n",
              "      div.appendChild(progress);\n",
              "      document.body.appendChild(div);\n",
              "\n",
              "      const buffers = [];\n",
              "      let downloaded = 0;\n",
              "\n",
              "      const channel = await google.colab.kernel.comms.open(id);\n",
              "      // Send a message to notify the kernel that we're ready.\n",
              "      channel.send({})\n",
              "\n",
              "      for await (const message of channel.messages) {\n",
              "        // Send a message to notify the kernel that we're ready.\n",
              "        channel.send({})\n",
              "        if (message.buffers) {\n",
              "          for (const buffer of message.buffers) {\n",
              "            buffers.push(buffer);\n",
              "            downloaded += buffer.byteLength;\n",
              "            progress.value = downloaded;\n",
              "          }\n",
              "        }\n",
              "      }\n",
              "      const blob = new Blob(buffers, {type: 'application/binary'});\n",
              "      const a = document.createElement('a');\n",
              "      a.href = window.URL.createObjectURL(blob);\n",
              "      a.download = filename;\n",
              "      div.appendChild(a);\n",
              "      a.click();\n",
              "      div.remove();\n",
              "    }\n",
              "  "
            ]
          },
          "metadata": {}
        },
        {
          "output_type": "display_data",
          "data": {
            "text/plain": [
              "<IPython.core.display.Javascript object>"
            ],
            "application/javascript": [
              "download(\"download_d36f6ece-7b93-47bb-8a5f-cea468182689\", \"sentiment_dataset.csv\", 225049)"
            ]
          },
          "metadata": {}
        }
      ]
    },
    {
      "cell_type": "code",
      "source": [],
      "metadata": {
        "id": "swr38zzQraF0"
      },
      "execution_count": null,
      "outputs": []
    }
  ]
}